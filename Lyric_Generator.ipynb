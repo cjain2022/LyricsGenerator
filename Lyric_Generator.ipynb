{
  "nbformat": 4,
  "nbformat_minor": 0,
  "metadata": {
    "colab": {
      "name": "Lyric Generator.ipynb",
      "provenance": []
    },
    "kernelspec": {
      "name": "python3",
      "display_name": "Python 3"
    }
  },
  "cells": [
    {
      "cell_type": "code",
      "metadata": {
        "id": "9v4UP80ZWzWE",
        "colab_type": "code",
        "colab": {
          "base_uri": "https://localhost:8080/",
          "height": 239
        },
        "outputId": "497257ee-8819-4694-ee48-c8a7d3a9d857"
      },
      "source": [
        "!wget https://uc5b63dd9be0bbaaf48d3ec1b2e3.dl.dropboxusercontent.com/cd/0/get/A1qbMfj2cHIQR_30yXq9eD1C1VA8WA1SBEmefi2Bddjvpwru2DUTWJkroRf_yoeLBVcfj6LVn4NxtSyYP9JCFnmRd-TG7GbEPH1XpN3onHY0ow/file?dl=1#"
      ],
      "execution_count": 1,
      "outputs": [
        {
          "output_type": "stream",
          "text": [
            "--2020-04-12 03:08:19--  https://uc5b63dd9be0bbaaf48d3ec1b2e3.dl.dropboxusercontent.com/cd/0/get/A1qbMfj2cHIQR_30yXq9eD1C1VA8WA1SBEmefi2Bddjvpwru2DUTWJkroRf_yoeLBVcfj6LVn4NxtSyYP9JCFnmRd-TG7GbEPH1XpN3onHY0ow/file?dl=1\n",
            "Resolving uc5b63dd9be0bbaaf48d3ec1b2e3.dl.dropboxusercontent.com (uc5b63dd9be0bbaaf48d3ec1b2e3.dl.dropboxusercontent.com)... 162.125.9.6, 2620:100:601f:6::a27d:906\n",
            "Connecting to uc5b63dd9be0bbaaf48d3ec1b2e3.dl.dropboxusercontent.com (uc5b63dd9be0bbaaf48d3ec1b2e3.dl.dropboxusercontent.com)|162.125.9.6|:443... connected.\n",
            "HTTP request sent, awaiting response... 200 OK\n",
            "Length: 1429 (1.4K) [application/binary]\n",
            "Saving to: ‘file?dl=1’\n",
            "\n",
            "\rfile?dl=1             0%[                    ]       0  --.-KB/s               \rfile?dl=1           100%[===================>]   1.40K  --.-KB/s    in 0s      \n",
            "\n",
            "2020-04-12 03:08:19 (191 MB/s) - ‘file?dl=1’ saved [1429/1429]\n",
            "\n"
          ],
          "name": "stdout"
        }
      ]
    },
    {
      "cell_type": "code",
      "metadata": {
        "id": "t8d6gaGzF-xX",
        "colab_type": "code",
        "colab": {}
      },
      "source": [
        "def load_text(filename):\n",
        "  with open(filename,mode='r',encoding='utf8')as f:\n",
        "    return f.read().lower()"
      ],
      "execution_count": 0,
      "outputs": []
    },
    {
      "cell_type": "code",
      "metadata": {
        "id": "NFlI_-GlGTWC",
        "colab_type": "code",
        "colab": {
          "base_uri": "https://localhost:8080/",
          "height": 55
        },
        "outputId": "b064df2d-fd5a-4360-a460-44fecb616a12"
      },
      "source": [
        "filepath='/content/Apna Time Aayega.txt'\n",
        "data=load_text(filepath)\n",
        "data"
      ],
      "execution_count": 109,
      "outputs": [
        {
          "output_type": "execute_result",
          "data": {
            "text/plain": [
              "'apna time aayega\\nuth ja apni raakh se\\ntu udd ja ab talaash mein\\nparwaaz dekh parwane ki\\naasman bhi sar uthayega\\naayega apna time aayega\\nmere jaisa shaana lala\\ntujhe na mil payega\\n \\nyeh shabdon ka jwala\\nmeri bediyan pighlayega\\njitna toone boya hai tu\\nutna hi to khaayega\\naisa mera khwaab hai\\njo darr ko bhi satayega\\nzinda mera khwaab\\nab kaise tu dafnayega\\n \\nab hausle se jeene de\\nab khauf nahi hai seene mein\\nhar raaste ko cheerenge\\nhum kaamyabi chheenenge\\nsab kuchh mila paseene se\\nmatlab bana ab jeene mein\\n \\nkyon\\nkyon ki apna time aayega\\n \\ntu nanga hi to aaya hai\\nkya ghanta lekar jaayega\\napna time aayega\\napna time aayega\\napna time aayega x (2)\\n \\ntu nanga hi to aaya hai\\nkya ghanta lekar..\\n \\nkissi ka hath nahi tha sar par\\nyahaan par aaya khud ki mehnat se main\\njitni taakat kismat mein nahi\\nutni rehmat mein hai\\nphir bhi ladka sehmat nahin hai\\nkyon ki hairat nahi hai\\nzaroorat yahaan marzi ki\\naur jurrat ki hai\\n \\ntaakat ki hai, aafat ki\\nhimaakat ki, ibaadat ki\\nadalat yeh hai chahat ki\\nmohobbat ki, amaanat ki\\njeetne ki ab aadat ki hai\\nshohrat ki ab laalach nai hai\\ntere bhai jaisa koyi hard’ch nai hai\\n \\niss harkat ne hi barkat di hai\\nkyon?\\n \\ntu nanga hi to aaya hai\\nkya ghanta lekar jaayega\\napna time aayega\\napna time aayega\\napna time aayega\\n \\ntu nanga hi to aaya hai\\nkya ghanta lekar jaayega\\nkya tu ghanta lekar jaayega\\napna time aayega\\napna time aayega'"
            ]
          },
          "metadata": {
            "tags": []
          },
          "execution_count": 109
        }
      ]
    },
    {
      "cell_type": "code",
      "metadata": {
        "id": "zlTPQPZNW8zA",
        "colab_type": "code",
        "colab": {}
      },
      "source": [
        "def generateTable(data,k):\n",
        "  T={}\n",
        "  for i in range(len(data)-k):\n",
        "    X=data[i:i+k]\n",
        "    Y=data[i+k]\n",
        "    if T.get(X) is None:\n",
        "      T[X]={}\n",
        "      T[X][Y]=1\n",
        "    else:\n",
        "      if T[X].get(Y) is None:\n",
        "        T[X][Y]=1\n",
        "      else:\n",
        "          T[X][Y]+=1\n",
        "  for kx in T.keys():\n",
        "    s=sum(T[kx].values())\n",
        "    for yk in T[kx].keys():\n",
        "      T[kx][yk]=T[kx][yk]/s\n",
        "  return T"
      ],
      "execution_count": 0,
      "outputs": []
    },
    {
      "cell_type": "code",
      "metadata": {
        "id": "jgp0D5kJ2FLO",
        "colab_type": "code",
        "colab": {}
      },
      "source": [
        "import numpy as np\n",
        "def sample_next(ctx,T,k):\n",
        "  ctx=ctx[-k:]\n",
        "  if T.get(ctx) is None:\n",
        "    return \" \"\n",
        "  possible_chars=list(T[ctx].keys())\n",
        "  possible_vals=list(T[ctx].values())\n",
        "  return np.random.choice(possible_chars,p=possible_vals)"
      ],
      "execution_count": 0,
      "outputs": []
    },
    {
      "cell_type": "code",
      "metadata": {
        "id": "G8nC6bfZ2gTJ",
        "colab_type": "code",
        "colab": {}
      },
      "source": [
        "def generateText(model,starting_sent,k=4,maxLen=1000):\n",
        "  sentence=starting_sent\n",
        "  ctx=starting_sent[-k:]\n",
        "  for ix in range(maxLen):\n",
        "    next_prediction=sample_next(ctx,model,k)\n",
        "    sentence+=next_prediction\n",
        "    ctx=sentence[-k:]\n",
        "  return sentence"
      ],
      "execution_count": 0,
      "outputs": []
    },
    {
      "cell_type": "code",
      "metadata": {
        "id": "vH8e0mm92pSa",
        "colab_type": "code",
        "colab": {}
      },
      "source": [
        "model=generateTable(data,k=4)"
      ],
      "execution_count": 0,
      "outputs": []
    },
    {
      "cell_type": "code",
      "metadata": {
        "id": "Bmmf_xIvG5A-",
        "colab_type": "code",
        "colab": {}
      },
      "source": [
        "np.random.seed(11)\n",
        "fdata=generateText(model,\"apna\",k=4,maxLen=2000)\n"
      ],
      "execution_count": 0,
      "outputs": []
    },
    {
      "cell_type": "code",
      "metadata": {
        "id": "V--zMryiHA9K",
        "colab_type": "code",
        "colab": {
          "base_uri": "https://localhost:8080/",
          "height": 1000
        },
        "outputId": "3e68151d-b227-4d92-a74d-6db8b7c36d78"
      },
      "source": [
        "print(fdata)"
      ],
      "execution_count": 115,
      "outputs": [
        {
          "output_type": "stream",
          "text": [
            "apna time aaya hath nahi\n",
            "utna hi to aaya hai seene se\n",
            "matlab bana lala\n",
            "mere bhai tu\n",
            "utna time aaya hai\n",
            "phir bhi satayega\n",
            "zinda mera khud ki hai, amaana lala\n",
            "tujhe na mila paseene se jeenenge\n",
            "sab kuchh mil payega\n",
            "jitni rehmat mein\n",
            "har raakh se\n",
            "tu nanga hi to khauf nahin hai jaisa koyi hai seene mein nahi hai\n",
            "kyon ki ab laalach nai hai\n",
            "kya ghanta lekar jaayega\n",
            "kya tu dafnayega\n",
            "apna time aayega\n",
            "kya tu ghanta lekar..\n",
            " \n",
            "kyon\n",
            "kyon ka hai\n",
            "kya ghanta lekar jaayega\n",
            "apna time aayega\n",
            "zinda mera khwaab hai chheene mein\n",
            " \n",
            "kyon ki hai jaisa shaan pighlayega\n",
            "jitni taakat ne hi barkat ki mehnat ki, amaana ab talaash mein\n",
            "parwane ki hai\n",
            "jo darr ko bhi ladka sehmat mein nahi\n",
            "utna hi to khaayega\n",
            " \n",
            "yeh shabdon ka hai\n",
            "zaroorat ki\n",
            "himaakat di hairat ki, ibaadat ki hai\n",
            "kya ghanta lekar jaayega\n",
            "apna time aayega\n",
            " \n",
            "tu nanga hi barkat ki\n",
            "adalat yahaan par\n",
            "yahaan marzi ki\n",
            "jeetne ki\n",
            "jeetne ki mehnat se main\n",
            "jitna hi to aayega\n",
            " \n",
            "ab hai\n",
            "kya tu dafnayega\n",
            "mere jaisa mera khud ki hai\n",
            "kya ghanta lekar jaayega\n",
            "kya tu ghanta lekar..\n",
            " \n",
            "kissi ka hai\n",
            "kya ghanta lekar..\n",
            " \n",
            "kissi ka jwala\n",
            "meri bediyan parwaaz dekh par aaya hai\n",
            "kya ghanta lekar jaayega\n",
            "aayega\n",
            "apna time aayega\n",
            "aayega\n",
            "apna time aaya hath nai hai\n",
            "zaroorat ki\n",
            "mohobbat ki, aafat ki hai jaisa shaanat ki\n",
            "aur jurrat yahaan marzi ki\n",
            "adalat yeh shabdon ki ab aadat ki apna time aaya khwaab\n",
            "ab kaise tu ghanta lekar jaayega\n",
            "uth ja ab jeene mein hai\n",
            "phir bhi sar uthayega\n",
            " \n",
            "taakat ki\n",
            "himaakat ki mehnat se main\n",
            "jitna time aayega\n",
            "apna time aayega\n",
            "apna time aaya hai\n",
            " \n",
            "iss hard’ch nai hai\n",
            "kyon\n",
            "kyon\n",
            "kyon\n",
            "kyon ki mehnat se main\n",
            "jitna time aayega\n",
            "apna toone boya hai\n",
            "kyon ka jwala\n",
            "mere jaisa shaan pighlayega\n",
            "zinda mera khud ki ab talaash mein\n",
            "parwaaz dekh par\n",
            "yahaan pighlayega\n",
            "apna time aayega\n",
            " \n",
            "ab kuchh mil payega\n",
            "aisa mera khwaab\n",
            "ab kuchh mila paseene mein hai\n",
            "shohrat ki ab aadat ki\n",
            "adalat yahaana ab aadat ki\n",
            "mohobbat ki apna time aayega\n",
            "zinda mera khwaab hausle se main\n",
            "jitni taakat ne hi tha sar uthayega\n",
            "meri bediyan pighlayega\n",
            " \n",
            "tu nanga hi to aaya hai\n",
            "phir bhi lad\n"
          ],
          "name": "stdout"
        }
      ]
    },
    {
      "cell_type": "code",
      "metadata": {
        "id": "HUk8OPJiK409",
        "colab_type": "code",
        "colab": {}
      },
      "source": [
        "with open('output.txt',mode='x',encoding='utf8')as f:\n",
        "  print(fdata,file=f)"
      ],
      "execution_count": 0,
      "outputs": []
    },
    {
      "cell_type": "code",
      "metadata": {
        "id": "FJQt6Y1ALgrE",
        "colab_type": "code",
        "colab": {
          "base_uri": "https://localhost:8080/",
          "height": 35
        },
        "outputId": "42d51dca-bde5-4f77-cfcb-973c98405cd6"
      },
      "source": [
        "!ls"
      ],
      "execution_count": 82,
      "outputs": [
        {
          "output_type": "stream",
          "text": [
            "'Apna Time Aayega.txt'\t'file?dl=1'   output.txt   sample_data\n"
          ],
          "name": "stdout"
        }
      ]
    },
    {
      "cell_type": "code",
      "metadata": {
        "id": "uJTd48YnLiuV",
        "colab_type": "code",
        "colab": {}
      },
      "source": [
        ""
      ],
      "execution_count": 0,
      "outputs": []
    }
  ]
}